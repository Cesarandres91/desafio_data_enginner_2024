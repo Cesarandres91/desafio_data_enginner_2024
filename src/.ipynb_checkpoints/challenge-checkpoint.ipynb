{
 "cells": [
  {
   "cell_type": "markdown",
   "metadata": {},
   "source": [
    "# Challenge Latam Airlines"
   ]
  },
  {
   "cell_type": "markdown",
   "metadata": {},
   "source": [
    "El archivo JSON original aparecía corrupto y el intento de cargar el archivo completo resultaba en un JSONDecodeError, luego de revisarlo esto podía deberse a que correspondían a objetos JSON concatenados sin separarse correctamente, para facilitar el análisis la versión que estaré utilizando recibió la siguiente transformación previamente:"
   ]
  },
  {
   "cell_type": "code",
   "execution_count": null,
   "metadata": {},
   "outputs": [],
   "source": [
    "input_file_path = 'farmers-protest-tweets-2021-2-4.json'\n",
    "\n",
    "with open(input_file_path, 'r', encoding='utf-8') as infile, open(file_path, 'w', encoding='utf-8') as outfile:\n",
    "    for line in infile:\n",
    "        try:\n",
    "            # Intenta cargar cada línea como un objeto JSON\n",
    "            json_object = json.loads(line)\n",
    "            # Escribe el objeto JSON en el archivo de salida con una nueva línea\n",
    "            json.dump(json_object, outfile)\n",
    "            outfile.write('\\n')\n",
    "        except json.JSONDecodeError:\n",
    "            # Ignora las líneas que no son JSON válidos\n",
    "            continue"
   ]
  },
  {
   "cell_type": "markdown",
   "metadata": {},
   "source": [
    "Desde este punto el archivo farmers-protest-tweets-2021-2-4.json, corresponde al archivo transformado."
   ]
  },
  {
   "cell_type": "markdown",
   "metadata": {},
   "source": [
    "## Desarrollo y ejecuciones de las funciones"
   ]
  },
  {
   "cell_type": "code",
   "execution_count": 1,
   "metadata": {},
   "outputs": [],
   "source": [
    "file_path = \"farmers-protest-tweets-2021-2-4.json\""
   ]
  },
  {
   "cell_type": "code",
   "execution_count": 2,
   "metadata": {},
   "outputs": [],
   "source": [
    "import time\n",
    "import pandas as pd\n",
    "import json\n",
    "import os\n",
    "import re\n",
    "import memory_profiler\n",
    "\n",
    "from memory_profiler import memory_usage\n",
    "from q1_time import q1_time\n",
    "from q1_memory import q1_memory\n",
    "from q2_time import q2_time\n",
    "from q2_memory import q2_memory\n",
    "from q3_time import q3_time\n",
    "from q3_memory import q3_memory"
   ]
  },
  {
   "cell_type": "markdown",
   "metadata": {},
   "source": [
    "### q1_time - Medir tiempo de ejecución y uso de memoria para q1_time"
   ]
  },
  {
   "cell_type": "code",
   "execution_count": 3,
   "metadata": {},
   "outputs": [
    {
     "name": "stdout",
     "output_type": "stream",
     "text": [
      "Tiempo de ejecución de q1_time: 28.1361083984375 segundos\n",
      "Uso de memoria de q1_time: 1324.6015625 MB\n",
      "Resultados de q1_time:\n",
      "[('2021-02-12', 'RanbirS00614606'), ('2021-02-13', 'MaanDee08215437'), ('2021-02-17', 'RaaJVinderkaur'), ('2021-02-16', 'jot__b'), ('2021-02-14', 'rebelpacifist'), ('2021-02-18', 'neetuanjle_nitu'), ('2021-02-15', 'jot__b'), ('2021-02-20', 'MangalJ23056160'), ('2021-02-23', 'Surrypuria'), ('2021-02-19', 'Preetm91')]\n"
     ]
    }
   ],
   "source": [
    "# Medir tiempo de ejecución y uso de memoria para q1_time\n",
    "start_time = time.time()\n",
    "result_q1_time = q1_time(file_path)\n",
    "end_time = time.time()\n",
    "\n",
    "print(f\"Tiempo de ejecución de q1_time: {end_time - start_time} segundos\")\n",
    "mem_usage_q1_time = memory_usage((q1_time, (file_path,)))\n",
    "print(f\"Uso de memoria de q1_time: {max(mem_usage_q1_time)} MB\")\n",
    "\n",
    "# Resultados de la función\n",
    "print(\"Resultados de q1_time:\")\n",
    "print(result_q1_time)"
   ]
  },
  {
   "cell_type": "markdown",
   "metadata": {},
   "source": [
    "### q1_memory - Medir tiempo de ejecución y uso de memoria para q1_memory\n"
   ]
  },
  {
   "cell_type": "code",
   "execution_count": 4,
   "metadata": {},
   "outputs": [
    {
     "name": "stdout",
     "output_type": "stream",
     "text": [
      "Tiempo de ejecución de q1_memory: 6.572534561157227 segundos\n",
      "Uso de memoria de q1_memory: 486.59375 MB\n",
      "Resultados de q1_memory:\n",
      "[('2021-02-12', 'RanbirS00614606'), ('2021-02-13', 'MaanDee08215437'), ('2021-02-17', 'RaaJVinderkaur'), ('2021-02-16', 'jot__b'), ('2021-02-14', 'rebelpacifist'), ('2021-02-18', 'neetuanjle_nitu'), ('2021-02-15', 'jot__b'), ('2021-02-20', 'MangalJ23056160'), ('2021-02-23', 'Surrypuria'), ('2021-02-19', 'Preetm91')]\n"
     ]
    }
   ],
   "source": [
    "# Medir tiempo de ejecución y uso de memoria para q1_memory\n",
    "start_time = time.time()\n",
    "result_q1_memory = q1_memory(file_path)\n",
    "end_time = time.time()\n",
    "print(f\"Tiempo de ejecución de q1_memory: {end_time - start_time} segundos\")\n",
    "mem_usage_q1_memory = memory_usage((q1_memory, (file_path,)))\n",
    "print(f\"Uso de memoria de q1_memory: {max(mem_usage_q1_memory)} MB\")\n",
    "\n",
    "# Resultados de la función\n",
    "print(\"Resultados de q1_memory:\")\n",
    "print(result_q1_memory)"
   ]
  },
  {
   "cell_type": "markdown",
   "metadata": {},
   "source": [
    "### q2_time - Medir tiempo de ejecución y uso de memoria para q2_time"
   ]
  },
  {
   "cell_type": "code",
   "execution_count": 5,
   "metadata": {},
   "outputs": [
    {
     "name": "stdout",
     "output_type": "stream",
     "text": [
      "Tiempo de ejecución de q2_time: 7.5109851360321045 segundos\n",
      "Uso de memoria de q2_time: 3083.63671875 MB\n",
      "Resultados de q2_time:\n",
      "[('🙏', 2166), ('🌾', 596), ('💚', 532), ('😂', 491), ('👍', 470), ('👉', 450), ('🙏🙏', 413), ('👇', 376), ('🚜', 341), ('🙏🏽', 327)]\n"
     ]
    }
   ],
   "source": [
    "# Medir tiempo de ejecución y uso de memoria para q2_time\n",
    "start_time = time.time()\n",
    "result_q2_time = q2_time(file_path)\n",
    "end_time = time.time()\n",
    "print(f\"Tiempo de ejecución de q2_time: {end_time - start_time} segundos\")\n",
    "mem_usage_q2_time = memory_usage((q2_time, (file_path,)))\n",
    "print(f\"Uso de memoria de q2_time: {max(mem_usage_q2_time)} MB\")\n",
    "\n",
    "\n",
    "# Resultados de la función\n",
    "print(\"Resultados de q2_time:\")\n",
    "print(result_q2_time)"
   ]
  },
  {
   "cell_type": "markdown",
   "metadata": {},
   "source": [
    "### q2_memory - Medir tiempo de ejecución y uso de memoria para q2_memory"
   ]
  },
  {
   "cell_type": "code",
   "execution_count": 6,
   "metadata": {},
   "outputs": [
    {
     "name": "stdout",
     "output_type": "stream",
     "text": [
      "Tiempo de ejecución de q2_memory: 6.5001983642578125 segundos\n",
      "Uso de memoria de q2_memory: 493.87109375 MB\n",
      "Resultados de q2_memory:\n",
      "[('🙏', 2166), ('🌾', 596), ('💚', 532), ('😂', 491), ('👍', 470), ('👉', 450), ('🙏🙏', 413), ('👇', 376), ('🚜', 341), ('🙏🏽', 327)]\n"
     ]
    }
   ],
   "source": [
    "# Medir tiempo de ejecución y uso de memoria para q2_memory\n",
    "start_time = time.time()\n",
    "result_q2_memory = q2_memory(file_path)\n",
    "end_time = time.time()\n",
    "print(f\"Tiempo de ejecución de q2_memory: {end_time - start_time} segundos\")\n",
    "mem_usage_q2_memory = memory_usage((q2_memory, (file_path,)))\n",
    "print(f\"Uso de memoria de q2_memory: {max(mem_usage_q2_memory)} MB\")\n",
    "\n",
    "# Resultados de la función\n",
    "print(\"Resultados de q2_memory:\")\n",
    "print(result_q2_memory)"
   ]
  },
  {
   "cell_type": "markdown",
   "metadata": {},
   "source": [
    "### q3_time - Medir tiempo de ejecución y uso de memoria para q3_time"
   ]
  },
  {
   "cell_type": "code",
   "execution_count": 7,
   "metadata": {},
   "outputs": [
    {
     "name": "stdout",
     "output_type": "stream",
     "text": [
      "Tiempo de ejecución de q3_time: 6.9319586753845215 segundos\n",
      "Uso de memoria de q3_time: 3066.4765625 MB\n",
      "Resultados de q3_time:\n",
      "[('@narendramodi', 2261), ('@Kisanektamorcha', 1836), ('@RakeshTikaitBKU', 1639), ('@PMOIndia', 1422), ('@RahulGandhi', 1125), ('@GretaThunberg', 1046), ('@RaviSinghKA', 1015), ('@rihanna', 972), ('@UNHumanRights', 962), ('@meenaharris', 925)]\n"
     ]
    }
   ],
   "source": [
    "# Medir tiempo de ejecución y uso de memoria para q3_time\n",
    "start_time = time.time()\n",
    "result_q3_time = q3_time(file_path)\n",
    "end_time = time.time()\n",
    "print(f\"Tiempo de ejecución de q3_time: {end_time - start_time} segundos\")\n",
    "mem_usage_q3_time = memory_usage((q3_time, (file_path,)))\n",
    "print(f\"Uso de memoria de q3_time: {max(mem_usage_q3_time)} MB\")\n",
    "\n",
    "# Resultados de la función\n",
    "print(\"Resultados de q3_time:\")\n",
    "print(result_q3_time)"
   ]
  },
  {
   "cell_type": "markdown",
   "metadata": {},
   "source": [
    "### q3_memory - Medir tiempo de ejecución y uso de memoria para q3_memory"
   ]
  },
  {
   "cell_type": "code",
   "execution_count": 3,
   "metadata": {},
   "outputs": [
    {
     "name": "stdout",
     "output_type": "stream",
     "text": [
      "Tiempo de ejecución de q3_memory: 6.537315845489502 segundos\n",
      "Uso de memoria de q3_memory: 485.921875 MB\n",
      "Resultados de q3_memory:\n",
      "[('@narendramodi', 2261), ('@Kisanektamorcha', 1836), ('@RakeshTikaitBKU', 1639), ('@PMOIndia', 1422), ('@RahulGandhi', 1125), ('@GretaThunberg', 1046), ('@RaviSinghKA', 1015), ('@rihanna', 972), ('@UNHumanRights', 962), ('@meenaharris', 925)]\n"
     ]
    }
   ],
   "source": [
    "# Medir tiempo de ejecución y uso de memoria para q3_memory\n",
    "start_time = time.time()\n",
    "result_q3_memory = q3_memory(file_path)\n",
    "end_time = time.time()\n",
    "print(f\"Tiempo de ejecución de q3_memory: {end_time - start_time} segundos\")\n",
    "mem_usage_q3_memory = memory_usage((q3_memory, (file_path,)))\n",
    "print(f\"Uso de memoria de q3_memory: {max(mem_usage_q3_memory)} MB\")\n",
    "\n",
    "# Resultados de la función\n",
    "print(\"Resultados de q3_memory:\")\n",
    "print(result_q3_memory)"
   ]
  },
  {
   "cell_type": "code",
   "execution_count": null,
   "metadata": {},
   "outputs": [],
   "source": []
  }
 ],
 "metadata": {
  "kernelspec": {
   "display_name": "Python 3 (ipykernel)",
   "language": "python",
   "name": "python3"
  },
  "language_info": {
   "codemirror_mode": {
    "name": "ipython",
    "version": 3
   },
   "file_extension": ".py",
   "mimetype": "text/x-python",
   "name": "python",
   "nbconvert_exporter": "python",
   "pygments_lexer": "ipython3",
   "version": "3.10.10"
  }
 },
 "nbformat": 4,
 "nbformat_minor": 4
}
